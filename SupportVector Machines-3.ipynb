{
 "cells": [
  {
   "cell_type": "code",
   "execution_count": null,
   "id": "51af488f",
   "metadata": {},
   "outputs": [],
   "source": [
    "Q1. In order to predict house prices using an SVM regression model with multiple characteristics, such as location, square \n",
    "footage, and number of bedrooms, the best regression metric to employ would be Mean Squared Error (MSE).\n",
    "MSE measures the average squared difference between the predicted and actual values, providing a good indication of how well\n",
    "the model is performing in terms of prediction accuracy.\n",
    "\n",
    "Q2. If your goal is to predict the actual price of a house as accurately as possible, Mean Squared Error (MSE) would be more\n",
    "appropriate as an evaluation metric.\n",
    "MSE penalizes larger errors more heavily than smaller errors, making it suitable for regression tasks where you want to\n",
    "minimize the impact of large prediction errors.\n",
    "\n",
    "Q3. When dealing with a dataset that has a significant number of outliers, Mean Absolute Error (MAE) would be the most\n",
    "appropriate regression metric to use with your SVM model. \n",
    "MAE is less sensitive to outliers compared to MSE, as it measures the average absolute difference between predicted and\n",
    "actual values. It gives equal weight to all errors, making it more robust in the presence of outliers.\n",
    "\n",
    "Q4. If MSE and RMSE are very close for an SVM regression model with a polynomial kernel, it's generally more common to use\n",
    "MSE as the evaluation metric.\n",
    "MSE is widely used and easier to interpret since it represents the average squared difference between predicted and actual\n",
    "values. In this case, the choice between MSE and RMSE might not significantly impact the interpretation of the model's \n",
    "performance.\n",
    "\n",
    "Q5. When comparing SVM regression models with different kernels (linear, polynomial, and RBF) and aiming to measure how well\n",
    "the model explains the variance in the target variable, R-squared (coefficient of determination) would be the most appropriate\n",
    "evaluation metric. \n",
    "R-squared provides a measure of the proportion of the variance in the target variable that is predictable from the independent \n",
    "variables. It ranges from 0 to 1, where higher values indicate a better fit of the model to the data."
   ]
  }
 ],
 "metadata": {
  "kernelspec": {
   "display_name": "Python 3 (ipykernel)",
   "language": "python",
   "name": "python3"
  },
  "language_info": {
   "codemirror_mode": {
    "name": "ipython",
    "version": 3
   },
   "file_extension": ".py",
   "mimetype": "text/x-python",
   "name": "python",
   "nbconvert_exporter": "python",
   "pygments_lexer": "ipython3",
   "version": "3.9.13"
  }
 },
 "nbformat": 4,
 "nbformat_minor": 5
}

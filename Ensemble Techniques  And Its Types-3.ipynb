{
 "cells": [
  {
   "cell_type": "code",
   "execution_count": null,
   "id": "53bcc3f4",
   "metadata": {},
   "outputs": [],
   "source": [
    "1-What is Random Forest Regressor?\n",
    "Random Forest Regressor is a machine learning algorithm used for regression tasks.\n",
    "It's an ensemble learning method that builds a multitude of decision trees during training and outputs the mean prediction\n",
    "of the individual trees for regression problems.\n",
    "\n",
    "2-How does Random Forest Regressor reduce the risk of overfitting?\n",
    "Random Forest Regressor reduces overfitting through two main methods:\n",
    "Each tree is trained on a random subset of the data, called bootstrap samples.\n",
    "At each split in the tree, only a random subset of features is considered for splitting, reducing correlation between trees \n",
    "and enhancing generalization.\n",
    "\n",
    "3-How does Random Forest Regressor aggregate the predictions of multiple decision trees?\n",
    "Random Forest Regressor aggregates predictions by averaging the outputs of individual decision trees. For regression tasks,\n",
    "it computes the mean of the predictions made by each tree in the forest.\n",
    "\n",
    "4-What are the hyperparameters of Random Forest Regressor?\n",
    "Some key hyperparameters include:\n",
    "Number of trees (n_estimators)\n",
    "Maximum depth of each tree (max_depth)\n",
    "Minimum number of samples required to split a node (min_samples_split)\n",
    "Minimum number of samples required at each leaf node (min_samples_leaf)\n",
    "Maximum number of features to consider for splitting (max_features)\n",
    "\n",
    "5-What is the difference between Random Forest Regressor and Decision Tree Regressor?\n",
    "Random Forest Regressor is an ensemble method that builds multiple decision trees and aggregates their predictions,\n",
    "whereas Decision Tree Regressor builds a single decision tree. Random Forest is less prone to overfitting compared to\n",
    "a single decision tree and generally provides better performance, especially with complex datasets.\n",
    "\n",
    "6-What are the advantages and disadvantages of Random Forest Regressor?\n",
    "Advantages:\n",
    "Reduced overfitting compared to individual decision trees.\n",
    "Handles both numerical and categorical data well.\n",
    "Robust to outliers and missing values.\n",
    "Provides feature importances, aiding in feature selection.\n",
    "\n",
    "Disadvantages:\n",
    "Can be computationally expensive, especially with large datasets.\n",
    "May not be as interpretable as a single decision tree.\n",
    "Tuning the hyperparameters can be challenging.\n",
    "\n",
    "7-What is the output of Random Forest Regressor?\n",
    "The output of a Random Forest Regressor is a continuous value, representing the predicted target variable.\n",
    "\n",
    "8-Can Random Forest Regressor be used for classification tasks?\n",
    "Yes, Random Forest can be used for classification tasks as well. It's called Random Forest Classifier in that case, and \n",
    "it predicts the class labels instead of continuous values."
   ]
  }
 ],
 "metadata": {
  "kernelspec": {
   "display_name": "Python 3 (ipykernel)",
   "language": "python",
   "name": "python3"
  },
  "language_info": {
   "codemirror_mode": {
    "name": "ipython",
    "version": 3
   },
   "file_extension": ".py",
   "mimetype": "text/x-python",
   "name": "python",
   "nbconvert_exporter": "python",
   "pygments_lexer": "ipython3",
   "version": "3.9.13"
  }
 },
 "nbformat": 4,
 "nbformat_minor": 5
}

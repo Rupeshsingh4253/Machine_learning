{
 "cells": [
  {
   "cell_type": "code",
   "execution_count": null,
   "id": "565c8235",
   "metadata": {},
   "outputs": [],
   "source": [
    "Q1. Time-dependent seasonal components refer to recurring patterns or fluctuations in time series data that vary over time.\n",
    "Unlike static seasonal patterns, which remain constant throughout the time series, time-dependent seasonal components change \n",
    "in magnitude, frequency, or shape as time progresses.\n",
    "\n",
    "Q2. Time-dependent seasonal components can be identified in time series data through various techniques, including:\n",
    "\n",
    "- Visual inspection: Plotting the time series data over time and visually examining patterns and fluctuations can help identify\n",
    "    time-dependent seasonal components.\n",
    "- Decomposition: Decomposing the time series into its trend, seasonal, and residual components using methods like seasonal\n",
    "    decomposition of time series (STL) or moving averages can reveal time-dependent seasonal patterns.\n",
    "- Statistical tests: Analyzing autocorrelation and partial autocorrelation plots can help detect the presence of seasonal\n",
    "    patterns at different lags.\n",
    "\n",
    "Q3. Several factors can influence time-dependent seasonal components in time series data, including:\n",
    "\n",
    "- Natural phenomena: Seasonal variations may be influenced by natural factors such as weather patterns, temperature changes,\n",
    "    daylight hours, or biological cycles.\n",
    "- Economic factors: Seasonal fluctuations in economic indicators, consumer behavior, or market trends can impact time-dependent\n",
    "    seasonal components in business and financial time series data.\n",
    "- Social events: Events such as holidays, festivals, or cultural celebrations can introduce seasonal patterns in consumer\n",
    "    spending, travel, or leisure activities.\n",
    "\n",
    "Q4. Autoregression (AR) models are used in time series analysis and forecasting to capture the linear relationship between a\n",
    "time series and its lagged values. In an AR model, the current value of the time series is modeled as a linear combination of \n",
    "its past values, known as autoregressive terms.\n",
    "\n",
    "Q5. Autoregression models are used to make predictions for future time points by estimating the coefficients of the\n",
    "autoregressive terms in the model equation. Once the model parameters are estimated using historical data, the model can \n",
    "be used to generate forecasts for future time points based on the observed lagged values of the time series.\n",
    "\n",
    "Q6. A moving average (MA) model is a time series model that represents the current value of a time series as a linear \n",
    "combination of its past prediction errors. Unlike autoregressive models, which use lagged values of the time series, MA models\n",
    "use the errors or residuals from previous predictions to model the current value.\n",
    "\n",
    "Q7. A mixed autoregressive moving average (ARMA) model combines both autoregressive (AR) and moving average (MA) components to \n",
    "capture the linear dependencies and temporal structures present in time series data. While AR models capture the relationship \n",
    "between the time series and its lagged values, MA models capture the relationship between the time series and its past \n",
    "prediction errors. Mixed ARMA models provide a flexible framework for modeling complex time series data by incorporating both\n",
    "autoregressive and moving average components."
   ]
  }
 ],
 "metadata": {
  "kernelspec": {
   "display_name": "Python 3 (ipykernel)",
   "language": "python",
   "name": "python3"
  },
  "language_info": {
   "codemirror_mode": {
    "name": "ipython",
    "version": 3
   },
   "file_extension": ".py",
   "mimetype": "text/x-python",
   "name": "python",
   "nbconvert_exporter": "python",
   "pygments_lexer": "ipython3",
   "version": "3.9.13"
  }
 },
 "nbformat": 4,
 "nbformat_minor": 5
}

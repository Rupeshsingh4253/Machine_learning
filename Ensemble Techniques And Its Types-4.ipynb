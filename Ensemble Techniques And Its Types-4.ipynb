{
 "cells": [
  {
   "cell_type": "code",
   "execution_count": null,
   "id": "5cfe4e5d",
   "metadata": {},
   "outputs": [],
   "source": [
    "from sklearn.pipeline import Pipeline\n",
    "from sklearn.impute import SimpleImputer\n",
    "from sklearn.compose import ColumnTransformer\n",
    "from sklearn.feature_selection import SelectFromModel\n",
    "from sklearn.ensemble import RandomForestClassifier\n",
    "from sklearn.preprocessing import StandardScaler, OneHotEncoder\n",
    "from sklearn.model_selection import train_test_split\n",
    "from sklearn.metrics import accuracy_score\n",
    "\n",
    "# Step 1: Automated feature selection\n",
    "feature_selection_model = RandomForestClassifier()  # You can use any other model for feature selection\n",
    "feature_selection = SelectFromModel(feature_selection_model)\n",
    "\n",
    "# Step 2: Numerical pipeline\n",
    "numerical_pipeline = Pipeline([\n",
    "    ('imputer', SimpleImputer(strategy='mean')),\n",
    "    ('scaler', StandardScaler())\n",
    "])\n",
    "\n",
    "# Step 3: Categorical pipeline\n",
    "categorical_pipeline = Pipeline([\n",
    "    ('imputer', SimpleImputer(strategy='most_frequent')),\n",
    "    ('onehot', OneHotEncoder())\n",
    "])\n",
    "\n",
    "# Step 4: Combine numerical and categorical pipelines\n",
    "preprocessor = ColumnTransformer([\n",
    "    ('num', numerical_pipeline, numerical_features),\n",
    "    ('cat', categorical_pipeline, categorical_features)\n",
    "])\n",
    "\n",
    "# Step 5: Final model with Random Forest Classifier\n",
    "model = Pipeline([\n",
    "    ('preprocessor', preprocessor),\n",
    "    ('classifier', RandomForestClassifier())\n",
    "])\n",
    "\n",
    "# Step 6: Train the model\n",
    "X_train, X_test, y_train, y_test = train_test_split(X, y, test_size=0.2, random_state=42)\n",
    "model.fit(X_train, y_train)\n",
    "\n",
    "# Step 7: Evaluate the model\n",
    "y_pred = model.predict(X_test)\n",
    "accuracy = accuracy_score(y_test, y_pred)\n",
    "print(\"Accuracy:\", accuracy)\n"
   ]
  },
  {
   "cell_type": "code",
   "execution_count": null,
   "id": "5644a351",
   "metadata": {},
   "outputs": [],
   "source": [
    "Interpretation:\n",
    "\n",
    "The pipeline automates the feature engineering process by first selecting important features using a RandomForestClassifier.\n",
    "Numerical features are processed by imputing missing values with the mean and scaling them using standardization.\n",
    "Categorical features are processed by imputing missing values with the most frequent value and then one-hot encoding them.\n",
    "Both numerical and categorical pipelines are combined using ColumnTransformer.\n",
    "The final model is built using a Random Forest Classifier.\n",
    "The accuracy of the model on the test dataset is evaluated.\n",
    "Possible improvements:\n",
    "\n",
    "Experiment with different feature selection methods.\n",
    "Try different imputation strategies for handling missing values.\n",
    "Explore other preprocessing techniques like normalization for numerical features.\n",
    "Fine-tune hyperparameters of the Random Forest Classifier for better performance."
   ]
  },
  {
   "cell_type": "code",
   "execution_count": null,
   "id": "8e329032",
   "metadata": {},
   "outputs": [],
   "source": [
    "from sklearn.ensemble import VotingClassifier\n",
    "from sklearn.linear_model import LogisticRegression\n",
    "from sklearn.pipeline import make_pipeline\n",
    "\n",
    "# Define individual classifiers\n",
    "rf_classifier = RandomForestClassifier()\n",
    "lr_classifier = LogisticRegression()\n",
    "\n",
    "# Build pipeline with voting classifier\n",
    "voting_pipeline = make_pipeline(preprocessor, \n",
    "                                VotingClassifier(estimators=[('rf', rf_classifier), ('lr', lr_classifier)]))\n",
    "\n",
    "# Train the pipeline\n",
    "voting_pipeline.fit(X_train, y_train)\n",
    "\n",
    "# Evaluate the accuracy\n",
    "accuracy = voting_pipeline.score(X_test, y_test)\n",
    "print(\"Accuracy:\", accuracy)\n"
   ]
  },
  {
   "cell_type": "code",
   "execution_count": null,
   "id": "df78d5ac",
   "metadata": {},
   "outputs": [],
   "source": []
  }
 ],
 "metadata": {
  "kernelspec": {
   "display_name": "Python 3 (ipykernel)",
   "language": "python",
   "name": "python3"
  },
  "language_info": {
   "codemirror_mode": {
    "name": "ipython",
    "version": 3
   },
   "file_extension": ".py",
   "mimetype": "text/x-python",
   "name": "python",
   "nbconvert_exporter": "python",
   "pygments_lexer": "ipython3",
   "version": "3.9.13"
  }
 },
 "nbformat": 4,
 "nbformat_minor": 5
}

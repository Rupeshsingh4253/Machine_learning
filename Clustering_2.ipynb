{
 "cells": [
  {
   "cell_type": "code",
   "execution_count": null,
   "id": "6ffe35c4",
   "metadata": {},
   "outputs": [],
   "source": [
    "Q1. Hierarchical clustering is a method of cluster analysis that builds a hierarchy of clusters. Unlike partition-based \n",
    "clustering algorithms like K-means, hierarchical clustering does not require specifying the number of clusters beforehand. \n",
    "Instead, it creates a tree-like structure (dendrogram) of clusters, allowing for both bottom-up (agglomerative) and top-down\n",
    "(divisive) approaches to clustering. Hierarchical clustering is different from other clustering techniques in that it produces\n",
    "a hierarchical structure of clusters rather than a flat partitioning of data points.\n",
    "\n",
    "Q2. The two main types of hierarchical clustering algorithms are:\n",
    "\n",
    "Agglomerative hierarchical clustering: This bottom-up approach starts with each data point as a separate cluster and \n",
    "    iteratively merges the closest pairs of clusters until only one cluster remains.\n",
    "Divisive hierarchical clustering: This top-down approach starts with all data points in one cluster and recursively splits\n",
    "    clusters until each data point is in its own cluster.\n",
    "Q3. The distance between two clusters in hierarchical clustering is determined using a distance metric, which measures the \n",
    "dissimilarity between two clusters. Common distance metrics used include:\n",
    "\n",
    "Euclidean distance: Measures the straight-line distance between two points in Euclidean space.\n",
    "Manhattan distance: Measures the sum of absolute differences between the coordinates of two points.\n",
    "Pearson correlation coefficient: Measures the linear correlation between two sets of data points.\n",
    "Cosine similarity: Measures the cosine of the angle between two vectors in a multi-dimensional space.\n",
    "Q4. The optimal number of clusters in hierarchical clustering can be determined using methods such as:\n",
    "\n",
    "Dendrogram: Visual inspection of the dendrogram can help identify the natural \"cut\" points where clusters should be formed.\n",
    "Gap statistics: Compares the within-cluster dispersion to that of a reference distribution to identify the optimal number of\n",
    "    clusters.\n",
    "Silhouette analysis: Computes silhouette scores for different numbers of clusters and selects the value that maximizes the\n",
    "    silhouette score.\n",
    "Q5. Dendrograms in hierarchical clustering are tree-like structures that represent the arrangement of clusters at different\n",
    "levels of granularity. They are useful in analyzing the results of hierarchical clustering as they provide a visual\n",
    "representation of the clustering process, showing how clusters are merged or split at each step.\n",
    "\n",
    "Q6. Yes, hierarchical clustering can be used for both numerical and categorical data. The distance metrics used for each type\n",
    "of data are different:\n",
    "\n",
    "For numerical data: Distance metrics like Euclidean distance or Manhattan distance are commonly used.\n",
    "For categorical data: Distance metrics like Jaccard distance or Hamming distance, which measure dissimilarity based on the\n",
    "    presence or absence of categorical variables, are used.\n",
    "Q7. Hierarchical clustering can be used to identify outliers or anomalies in data by examining the structure of the dendrogram.\n",
    "Outliers may appear as singletons or clusters with very few data points, located far from the main body of clusters. \n",
    "Additionally, hierarchical clustering can be combined with other outlier detection techniques, such as density-based methods,\n",
    "to identify outliers more effectively."
   ]
  }
 ],
 "metadata": {
  "kernelspec": {
   "display_name": "Python 3 (ipykernel)",
   "language": "python",
   "name": "python3"
  },
  "language_info": {
   "codemirror_mode": {
    "name": "ipython",
    "version": 3
   },
   "file_extension": ".py",
   "mimetype": "text/x-python",
   "name": "python",
   "nbconvert_exporter": "python",
   "pygments_lexer": "ipython3",
   "version": "3.9.13"
  }
 },
 "nbformat": 4,
 "nbformat_minor": 5
}

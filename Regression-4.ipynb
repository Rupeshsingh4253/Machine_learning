{
 "cells": [
  {
   "cell_type": "code",
   "execution_count": null,
   "id": "d60470cc",
   "metadata": {},
   "outputs": [],
   "source": [
    "\n",
    "Q1. Lasso Regression and its Differences:\n",
    "\n",
    "Lasso Regression (Least Absolute Shrinkage and Selection Operator) is a linear regression technique that adds a penalty term\n",
    "based on the absolute values of the coefficients to the ordinary least squares (OLS) cost function.\n",
    "Lasso differs from OLS by adding a regularization term that encourages sparsity, effectively leading to some coefficients\n",
    "being exactly zero.\n",
    "Lasso is particularly useful for feature selection as it tends to eliminate irrelevant variables.\n",
    "Q2. Advantage of Lasso Regression in Feature Selection:\n",
    "\n",
    "Lasso has a natural feature selection property as it tends to shrink some coefficients to exactly zero.\n",
    "This leads to a sparse model, making it easier to identify and focus on the most relevant features.\n",
    "Q3. Interpreting Coefficients of Lasso Regression:\n",
    "\n",
    "Coefficients in Lasso Regression are interpreted similarly to those in ordinary least squares regression, but the presence of \n",
    "the penalty term influences their size.\n",
    "A non-zero coefficient indicates the importance of the corresponding feature in predicting the dependent variable.\n",
    "Q4. Tuning Parameters in Lasso Regression:\n",
    "\n",
    "The main tuning parameter in Lasso is \n",
    "λ (lambda), also known as the regularization parameter.\n",
    "λ controls the strength of the regularization. Higher \n",
    "λ values lead to more aggressive shrinking of coefficients.\n",
    "Cross-validation techniques, such as k-fold cross-validation, can be used to select the optimal \n",
    "λ that minimizes prediction error.\n",
    "Q5. Lasso Regression for Non-linear Regression Problems:\n",
    "\n",
    "Lasso Regression is inherently a linear regression technique. However, it can be used for non-linear regression problems\n",
    "by incorporating non-linear transformations of the input features.\n",
    "Q6. Difference Between Ridge and Lasso Regression:\n",
    "\n",
    "Both Ridge and Lasso are regularization techniques that add penalty terms to the cost function.\n",
    "Ridge uses the squared magnitude of coefficients (\n",
    "Lasso tends to produce sparse models, while Ridge tends to shrink coefficients towards zero without necessarily setting them \n",
    "    to zero.\n",
    "Q7. Handling Multicollinearity in Lasso Regression:\n",
    "\n",
    "Lasso Regression can handle multicollinearity by shrinking some coefficients to zero, effectively selecting one variable over \n",
    "    another.\n",
    "This property can help in situations where input features are highly correlated.\n",
    "Q8. Choosing the Optimal Value of Regularization Parameter in Lasso Regression:\n",
    "\n",
    "Cross-validation is commonly used to select the optimal \n",
    "λ in Lasso Regression.\n",
    "By training the model on different subsets of the data and evaluating performance, the \n",
    "λ value leading to the best performance is chosen."
   ]
  }
 ],
 "metadata": {
  "kernelspec": {
   "display_name": "Python 3 (ipykernel)",
   "language": "python",
   "name": "python3"
  },
  "language_info": {
   "codemirror_mode": {
    "name": "ipython",
    "version": 3
   },
   "file_extension": ".py",
   "mimetype": "text/x-python",
   "name": "python",
   "nbconvert_exporter": "python",
   "pygments_lexer": "ipython3",
   "version": "3.9.13"
  }
 },
 "nbformat": 4,
 "nbformat_minor": 5
}

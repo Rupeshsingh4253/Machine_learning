{
 "cells": [
  {
   "cell_type": "code",
   "execution_count": null,
   "id": "496aa940",
   "metadata": {},
   "outputs": [],
   "source": [
    "Q1. To find the probability that an employee is a smoker given that he/she uses the health insurance plan, we can use Bayes\n",
    "' theorem. Let:\n",
    "\n",
    "P(S) be the probability that an employee is a smoker.\n",
    "(H) be the probability that an employee uses the health insurance plan.\n",
    "P(S∣H) be the probability that an employee is a smoker given that he/she uses the health insurance plan.\n",
    "P(H∣S) be the probability that an employee uses the health insurance plan given that he/she is a smoker.\n",
    "From the problem statement, we know:\n",
    "\n",
    "Q2. Bernoulli Naive Bayes and Multinomial Naive Bayes are two variants of Naive Bayes classifiers used for text classification:\n",
    "\n",
    "Bernoulli Naive Bayes: Assumes that features are binary variables (occurring or not occurring). It's suitable for binary feature vectors.\n",
    "Multinomial Naive Bayes: Suitable for features that represent counts or frequencies of occurrences, typically used in text \n",
    "    classification with word counts.\n",
    "Q3. Bernoulli Naive Bayes handles missing values by treating them as non-occurring events. If a feature is missing for a \n",
    "sample, it's considered as if that feature didn't occur for that sample.\n",
    "\n",
    "Q4. Yes, Gaussian Naive Bayes can be used for multi-class classification. It's suitable when features follow a Gaussian \n",
    "(normal) distribution and can handle continuous numerical features."
   ]
  }
 ],
 "metadata": {
  "kernelspec": {
   "display_name": "Python 3 (ipykernel)",
   "language": "python",
   "name": "python3"
  },
  "language_info": {
   "codemirror_mode": {
    "name": "ipython",
    "version": 3
   },
   "file_extension": ".py",
   "mimetype": "text/x-python",
   "name": "python",
   "nbconvert_exporter": "python",
   "pygments_lexer": "ipython3",
   "version": "3.9.13"
  }
 },
 "nbformat": 4,
 "nbformat_minor": 5
}
